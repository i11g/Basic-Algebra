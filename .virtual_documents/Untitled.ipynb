import secrets
import time
from sympy.ntheory import factorint
import pandas as pd
import matplotlib.pyplot as plt

# Experiment parameters
bit_lengths = [10, 20, 25, 30, 32, 33, 35, 38, 40, 50, 60, 70]
num_trials = 5
mul_reps   = 10_000

results = []

for b in bit_lengths:
    mul_times = []
    fac_times = []
    for _ in range(num_trials):
        
        k1 = b // 2
        k2 = b - k1
        
        p = secrets.randbits(k1) | (1 << (k1 - 1))
        q = secrets.randbits(k2) | (1 << (k2 - 1))
        n = p * q

        # time multiplication
        t0 = time.perf_counter()
        for __ in range(mul_reps):
            _ = p * q
        t1 = time.perf_counter()
        mul_times.append((t1 - t0) / mul_reps)

        # time factorization
        t0 = time.perf_counter()
        _ = factorint(n)
        t1 = time.perf_counter()
        fac_times.append(t1 - t0)

    results.append({
        'bits': b,
        'mul_time_avg': sum(mul_times) / num_trials,
        'fac_time_avg': sum(fac_times) / num_trials
    })

# build a DataFrame
df = pd.DataFrame(results)

# plot
plt.plot(df['bits'], df['mul_time_avg'], label='Multiplication')
plt.plot(df['bits'], df['fac_time_avg'], label='Factorization')
plt.xlabel('Bit length')
plt.ylabel('Time (s)')
plt.legend()
plt.grid()
plt.title('Multiply vs. Factor Semiprimes')
plt.show()
