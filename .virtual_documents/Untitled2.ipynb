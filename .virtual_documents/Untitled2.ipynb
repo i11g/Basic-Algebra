import secrets
import time
import matplotlib.pyplot as plt
import numpy as np
from sympy.ntheory import factorint
from math import prod

def generate_n_bit_number(n_bits):
    """Generate a random n-bit number using secrets.randbits."""
    return secrets.randbits(n_bits)

def multiply_factors(factors):
    """Multiply all factors to get the original number."""
    return prod(factors)

# Bit lengths to test
bit_lengths = [10, 15, 20, 25, 30, 35, 40, 50, 60, 70, 100, 500]
num_trials = 5

# Store timing results
factor_times = {bits: [] for bits in bit_lengths}
multiply_times = {bits: [] for bits in bit_lengths}

# Perform trials
for bits in bit_lengths:
    for _ in range(num_trials):
        # Generate random n-bit number
        n = generate_n_bit_number(bits)
        while n < 2**(bits-1):  # Ensure number is at least n bits
            n = generate_n_bit_number(bits)
        
        # Time factorization
        start_time = time.perf_counter()
        factors_dict = factorint(n)
        factors = []
        for prime, power in factors_dict.items():
            factors.extend([prime] * power)
        end_time = time.perf_counter()
        factor_times[bits].append(end_time - start_time)
        
        # Time multiplication
        start_time = time.perf_counter()
        result = multiply_factors(factors)
        end_time = time.perf_counter()
        multiply_times[bits].append(end_time - start_time)

# Compute average times
avg_factor_times = [np.mean(factor_times[bits]) for bits in bit_lengths]
avg_multiply_times = [np.mean(multiply_times[bits]) for bits in bit_lengths]

# Plot results
plt.figure(figsize=(10, 6))
plt.plot(bit_lengths, avg_factor_times, 'b-o', label='Factorization Time (sympy.factorint)')
plt.plot(bit_lengths, avg_multiply_times, 'r-o', label='Multiplication Time')
plt.xlabel('Bit Length')
plt.ylabel('Time (seconds)')
plt.title('Factorization vs Multiplication Time by Bit Length')
plt.yscale('log')  # Use logarithmic scale for y-axis due to large differences
plt.grid(True)
plt.legend()

plt.savefig('factorization_vs_multiplication_simple.png')
plt.show()
