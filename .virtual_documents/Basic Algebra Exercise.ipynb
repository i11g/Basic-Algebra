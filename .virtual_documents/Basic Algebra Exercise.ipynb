get_ipython().run_line_magic("matplotlib", " inline")


import numpy as np
import matplotlib.pyplot as plt
import sympy
from sympy import Poly
from numpy.polynomial import Polynomial
from itertools import islice








points = np.array([(0, 0), (1, 0.8), (2, 0.9), (3, 0.1), (4, -0.8), (5, -1.0)])
np.polynomial.Polynomial.fit


x = points[:, 0]
y = points[:, 1]
x, y = points[:, 0], points[:, 1]


poly = Polynomial.fit(x, y, 5)


x_plot = np.linspace(0, 5, 1000)
y_plot = poly(x_plot)


plt.scatter(x, y)
plt.plot(x_plot, y_plot, c= "g")
plt.show()





def interpolate_polynomial(points, degree, min_x, max_x, title):
    """
    Interpolates a polynomial of the specified degree through the given points and plots it
    points - a list of points (x, y) to plot
    degree - the polynomial degree
    min_x, max_x - range of x values used to plot the interpolating polynomial
    """
    NUM_POINTS = 1000
    x, y = points[:, 0], points[:, 1]
    x_plot = np.linspace(min_x, max_x, NUM_POINTS)
    poly = Polynomial.fit(x, y, deg = degree)
    y_plot = poly(x_plot)

    plt.scatter(x, y, label ="data points")
    plt.plot(x_plot, y_plot, c= "g", label ="poly function")

    plt.xlabel("x")
    plt.ylabel("y")
    plt.title(title)
    plt.legend()
    plt.show()


points = np.array([(0, 0), (1, 0.8), (2, 0.9), (3, 0.1), (4, -0.8), (5, -1.0)])
interpolate_polynomial(points, len(points) - 1, np.min(points[:, 0]), np.max(points[:, 0]), "Best Fit")





interpolate_polynomial(points, len(points) - 1, -5, 10, "Plot with expand x")





interpolate_polynomial(points, 3, np.min(points[:, 0]), np.max(points[:, 0]), "Polynomial Degree 3")
interpolate_polynomial(points, 2, np.min(points[:, 0]), np.max(points[:, 0]), "Polynomial Degree 2")
interpolate_polynomial(points, 1, np.min(points[:, 0]), np.max(points[:, 0]), "Polynomial Degree 1")





interpolate_polynomial(points, 5, np.min(points[:, 0]), np.max(points[:, 0]), "Polynomial Degree 5")
interpolate_polynomial(points, 7, np.min(points[:, 0]), np.max(points[:, 0]), "Polynomial Degree 7")
interpolate_polynomial(points, 10, np.min(points[:, 0]), np.max(points[:, 0]), "Polynomial Degree 10")





interpolate_polynomial(points, 5, -10, 10, "Expanded x")
interpolate_polynomial(points, 7, -10, 10, "Expanded x")
interpolate_polynomial(points, 10, -10, 10, "Expanded x")





interpolate_polynomial(points, len(points) - 1, -2, 7, "Normal Degree")
interpolate_polynomial(points, len(points) + 1, -2, 7, "Increased Degree")








points_start = np.array([(1, 0.5), (2, 3), (3, 2), (4, -1), (5, 1.5)])
interpolate_polynomial(points_start, len(points_start) - 1, np.min(points_start[:, 0]), np.max(points_start[:, 0]), "Start")


poly_start = Polynomial.fit(points_start[:, 0], points_start[:, 1], deg=len(points_start)-1)


poly_start


poly_start.coef





points_inc = np.array([(1, 0.5), (2, 3), (3, 2), (4, -1), (5, 1.5), (6, 23)])
interpolate_polynomial(points_inc, len(points_inc) - 1, np.min(points_inc[:, 0]), np.max(points_inc[:, 0]),"Increase Points")


poly_increase = Polynomial.fit(points_inc[:, 0], points_inc[:, 1], len(points_inc)-1)


poly_increase.coef


poly_start.degree(), poly_increase.degree()





points = np.array([(-5, 0.03846), (-4, 0.05882), (-3, 0.1), (-2, 0.2), (-1, 0.5), (0, 1), (1, 0.5), (2, 0.2), (3, 0.1), (4, 0.05882), (5, 0.03846)])
interpolate_polynomial(points, len(points) - 1, np.min(points[:, 0]), np.max(points[:, 0]), "Wrong Assumption")





x_end = np.linspace(-5, 5, 1000)
y_end = 1/(1+x_end**2)
plt.plot(x_end, y_end)
plt.scatter(points[:, 0], points[:, 1], c = "g")
plt.show()

















def plot_complex_number(z):
    """
    Plots the complex number z as a radius vector in the 2D space
    """
    plt.quiver(0, 0, z.real, z.imag, angles = "xy", scale_units = "xy", scale = 1)
    plt.xticks(range(-4, 5))
    plt.yticks(range(-4, 5))
    ax = plt.gca()
    ax.spines["bottom"].set_position("zero")
    ax.spines["left"].set_position("zero")
    ax.spines["top"].set_visible(False)
    ax.spines["right"].set_visible(False)
    yticks = ax.get_yticks().tolist()
    yticks = [t for t in yticks if t != 0]
    ax.set_yticks(yticks)
    plt.show()
plot_complex_number(2 + 3j)





def plot_complex_numbers(numbers, colors):
    """
    Plots the given complex numbers as radius vectors in the 2D space
    """
    zeros = [0]*len(numbers)
    real_parts = [z.real for z in numbers]
    imag_parts = [z.imag for z in numbers]
    plt.quiver(zeros, zeros, real_parts, imag_parts, color = colors, angles = "xy", scale_units = "xy", scale = 1)
    plt.xticks(range(-4, 10))
    plt.yticks(range(-4, 10))
    ax = plt.gca()
    ax.spines["bottom"].set_position("zero")
    ax.spines["left"].set_position("zero")
    ax.spines["top"].set_visible(False)
    ax.spines["right"].set_visible(False)
    yticks = ax.get_yticks().tolist()
    yticks = [t for t in yticks if t != 0]
    ax.set_yticks(yticks)
    plt.show()
plot_complex_numbers([2 + 3j, -2 - 1j, -3, 2j], ["green", "red", "blue", "orange"])





z1 = 2 + 3j
z2 = 1 - 1j
plot_complex_numbers([z1, z2, z1 + z2], ["red", "blue", "green"])





z1 = 2 + 3j
z2 = 2 + 0j
plot_complex_numbers([z1, z2, z1 + z2], ["red", "blue", "green"])


z1 = 2 + 3j
z2 = 0 + 2j
plot_complex_numbers([z1, z2, z1 + z2], ["red", "blue", "green"])





z = 2 + 3j
plot_complex_numbers([z, z * 1], ["red", "blue"])
plot_complex_numbers([z, z * -1], ["red", "blue"])
plot_complex_numbers([z, z * 1j], ["red", "blue"])
plot_complex_numbers([z, z * -1j], ["red", "blue"])








z1 = 2 + 3j
z2 = 1 - 2j
plot_complex_numbers([z1, z2, z1 * z2], ["red", "blue", "green"])








x = sympy.symbols("x")
sympy.solve(x**4 - 2*x**2 + 1)





sympy.solve(x**2 - 1)


sympy.solve(x**3 - 1)


sympy.solve(x**4 - 1)


sympy.solve(x**5 - 1)


roots = {n: np.exp(2j * np.pi * np.arange(n) / n) for n in [3, 4, 5]}
colors = {3: 'C0', 4: 'C1', 5: 'C2'}

# Parameterize the unit circle
theta = np.linspace(0, 2 * np.pi, 400)
circle = np.exp(1j * theta)

# Plot
fig, ax = plt.subplots()
ax.plot(circle.real, circle.imag, linewidth=1)  # Unit circle

for n, pts in roots.items():
    ax.scatter(pts.real, pts.imag, label=f'{n}th roots of unity', color=colors[n], s=50)
    # Draw radius vectors
    for pt in pts:
        ax.plot([0, pt.real], [0, pt.imag], color=colors[n], linestyle='--', linewidth=1)

ax.set_aspect('equal')
ax.axhline(0, linewidth=0.5, color='gray')
ax.axvline(0, linewidth=0.5, color='gray')
ax.grid(True, linestyle='--', linewidth=0.5)
ax.set_xlabel('Real')
ax.set_ylabel('Imaginary')
ax.set_title('Roots of Unity with Radius Vectors (n=3,4,5)')
ax.legend(loc='upper right')

plt.show()


sympy.solve(x**6 - 1)


sympy.solve(x**7 -1 )





def factorial_recursive(n):
    """
    Computes the factorial of a non-negative number n (using recursion)
    """
    if n== 0 or n == 1:
        return 1
    return n*factorial_recursive(n-1)

def factorial_iterative(n):
    """
    Computes the factorial of a non-negative number n (using iteration)
    """
    result = 1
    for i in range(1, n+1):
        result *= i
    return result


factorial_iterative(10)


for i in range (10):
    print(factorial_iterative(i))


factorial_recursive(10)


for i in range(10):
    print(factorial_iterative(i))


for i in range(10):
    print(factorial_iterative(i) == factorial_recursive(i))





def nat(f, x0):
    """Returns all natural numbers"""
    x = x0
    while True:
        yield x
        x = f(x)


def even(f, x0):
    """Returns all natural numbers"""
    x = x0
    while True:
        yield x
        x = f(x)    


naturals = nat(lambda n: n + 1, 0)


print(list(islice(naturals, 10)))


evens = even (lambda n: n + 2, 0)


print(list(islice(evens, 10)))





def factorial_new(n):
    """ Returns the product of all positive integers up to a given number denoted as n! = (n - 1) x (n - 2)...x 1"""  
    def iterate(f, x0):
        x = x0
        while True:
            yield x
            x = f(x)
      
    pairs = iterate(lambda p: (p[0] + 1, p[1] * (p[0] + 1)), (0, 1))

    
    for f, fac_ in islice(pairs, n + 1):
        yield fac_ 


print(list(factorial_new(10)))





def fibonacci(n):
    """Lazily generate F₁, F₂, …, Fₙ (the first n Fibonacci numbers)"""
    def iterate(f, x0):
        x = x0
        while True:
            yield x
            x = f(x)

    pairs = iterate(lambda p: (p[1], p[0] + p[1]), (1, 1))

    for fib_, fib in islice(pairs, n):
        yield fib_


print(list(fibonacci(10)))





def mandelbrot_set(xmin, xmax, ymin, ymax, width, height, max_iter):
    # Create a grid of complex numbers (C)
    real = np.linspace(xmin, xmax, width)
    imag = np.linspace(ymin, ymax, height)
    C = real[np.newaxis, :] + 1j * imag[:, np.newaxis]
    Z = np.zeros_like(C)
    # Array to hold the iteration count at which each point escapes
    div_time = np.zeros(C.shape, dtype=int)
    mask = np.ones(C.shape, dtype=bool)  # Points that have not yet escaped

    for i in range(max_iter):
        Z[mask] = Z[mask]**2 + C[mask]
        escaped = np.abs(Z) > 2
        div_time[escaped & mask] = i
        mask &= ~escaped  # Update mask to exclude points that have escaped

    return div_time

# Parameters for the plot
xmin, xmax, ymin, ymax = -2.0, 1.0, -1.5, 1.5
width, height, max_iter = 600, 600, 100

# Compute the Mandelbrot set
mandel = mandelbrot_set(xmin, xmax, ymin, ymax, width, height, max_iter)

# Plot the result
plt.figure(figsize=(6, 6))
plt.imshow(mandel, extent=(xmin, xmax, ymin, ymax))
plt.axis('off')
plt.title("Mandelbrot Set")
plt.show()





# Write your code here





def encode(text):
    """
    Returns the run-length encoded version of the text
    (numbers after symbols, length = 1 is skipped)
    """
    if not text:
        return ""
    encoded = []
    prev_char = text[0]
    count = 1
   
    for ch in text[1:]:
        if ch == prev_char:
            count += 1
        else:
            if count == 1:
                encoded.append(prev_char)
            else:
                encoded.append(f"{prev_char}{count}")
            prev_char = ch
            count = 1
    
    if count == 1:
        encoded.append(prev_char)
    else:
        encoded.append(f"{prev_char}{count}")
    
    return "".join(encoded)

def decode(text):
    """
    Decodes the text using run-length encoding
    """
    decoded = []
    i = 0
    n = len(text)
    
    while i < n:
        char = text[i]
        i += 1
        
        count_start = i
        while i < n and text[i].isdigit():
            i += 1        
        
        if count_start < i:
            count = int(text[count_start:i])
        else:
            count = 1
        
        decoded.append(char * count)
    
    return "".join(decoded)


# Tests
# Test that the functions work on their own
assert encode("AABCCCDEEEE") == "A2BC3DE4"
assert decode("A2BC3DE4") == "AABCCCDEEEE"
assert encode("AAAAABBBBCCCDEEEE") == "A5B4C3DE4"
print("All tests passed!")


# Test that the functions really invert each other
assert decode(encode("AABCCCDEEEE")) == "AABCCCDEEEE"
assert encode(decode("A2BC3DE4")) == "A2BC3DE4"
print("All tests passed!")


def compression_stats(text):
    """
    Returns compression statistics for given text
    """
    encoded = encode(text)
    orig_len = len(text)
    enc_len = len(encoded)
    ratio = enc_len / orig_len
    saving_pct = (orig_len - enc_len) / orig_len * 100 
    return {
        "original_length": orig_len,
        "encoded_length": enc_len,
        "compression_ratio": ratio,
        "space_saving_percent": saving_pct
    }


sample = "AABCCCDEEEE" 
stats = compression_stats(sample)   
print(f"Sample text: {sample}")
print(f"Encoded text: {encode(sample)}")
print(f"Original length: {stats['original_length']}")
print(f"Encoded length: {stats['encoded_length']}")
print(f"Compression ratio: {stats['compression_ratio']:.2f}")
print(f"Space saving: {stats['space_saving_percent']:.1f}%")





import secrets
number = secrets.randbits(10)
print(number)


from sympy.ntheory import factorint
factorint(number)





# Write your code here









