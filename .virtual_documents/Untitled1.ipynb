import secrets
import time
from sympy.ntheory import factorint
import matplotlib.pyplot as plt

# Experiment parameters
bit_lengths = [10, 20, 25, 30, 32, 33, 35, 38, 40, 50, 60, 70]
num_trials = 5
mul_reps = 10_000

# Containers for averaged times
mul_avg = []
fac_avg = []

for b in bit_lengths:
    mtimes, ftimes = [], []
    # choose bit‐sizes so p⋅q is ~b bits
    k1, k2 = b // 2, b - (b // 2)
    for _ in range(num_trials):
        p = secrets.randbits(k1) | (1 << (k1 - 1))
        q = secrets.randbits(k2) | (1 << (k2 - 1))
        n = p * q

        # time multiplication (averaged)
        t0 = time.perf_counter()
        for __ in range(mul_reps):
            _ = p * q
        t1 = time.perf_counter()
        mtimes.append((t1 - t0) / mul_reps)

        # time factorization
        t0 = time.perf_counter()
        _ = factorint(n)
        t1 = time.perf_counter()
        ftimes.append(t1 - t0)

    mul_avg.append(sum(mtimes) / num_trials)
    fac_avg.append(sum(ftimes) / num_trials)

plt.figure(figsize=(8, 5))
plt.plot(bit_lengths, mul_avg, 'o--', label='Multiplication (avg)')
plt.plot(bit_lengths, fac_avg, 's--', label='Factorization (avg)')
plt.xlabel('Semiprime bit-length (b)')
plt.ylabel('Time per operation (seconds)')
plt.title('Multiply vs. Factor Semiprimes')
plt.grid(True)
plt.legend()
plt.tight_layout()
plt.show()



